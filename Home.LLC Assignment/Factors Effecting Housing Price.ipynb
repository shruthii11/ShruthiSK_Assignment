{
 "cells": [
  {
   "cell_type": "markdown",
   "id": "a66cacf3",
   "metadata": {},
   "source": [
    ">### Objective:\n",
    "The goal is to build a data science model that explains how various economic factors impacted home prices over the last 20 years. By analyzing these factors, we can understand the underlying drivers of home price changes and provide insights for future predictions.\n",
    ">\n",
    "> ### Dataset:\n",
    "The dataset includes economic indicators such as Home Price Index, Gross Domestic Product, Consumer Price Index, Construction Rate, Gross Domestic Income, Unemployment Rate, and Interest Rate, all measured as <mark>**percentage changes**</mark>.\n",
    ">\n",
    ">### Challenges:\n",
    ">\n",
    ">* *Outliers in the data.* \n",
    ">* *Complex, non-linear relationships between economic indicators and home prices.* "
   ]
  },
  {
   "cell_type": "markdown",
   "id": "1d7a8ee9",
   "metadata": {},
   "source": [
    " "
   ]
  },
  {
   "cell_type": "code",
   "execution_count": 34,
   "id": "be42c593",
   "metadata": {},
   "outputs": [],
   "source": [
    "import pandas as pd\n",
    "data = pd.read_csv('Dataset_US.csv')"
   ]
  },
  {
   "cell_type": "code",
   "execution_count": 3,
   "id": "094fc94f",
   "metadata": {},
   "outputs": [
    {
     "data": {
      "text/html": [
       "<div>\n",
       "<style scoped>\n",
       "    .dataframe tbody tr th:only-of-type {\n",
       "        vertical-align: middle;\n",
       "    }\n",
       "\n",
       "    .dataframe tbody tr th {\n",
       "        vertical-align: top;\n",
       "    }\n",
       "\n",
       "    .dataframe thead th {\n",
       "        text-align: right;\n",
       "    }\n",
       "</style>\n",
       "<table border=\"1\" class=\"dataframe\">\n",
       "  <thead>\n",
       "    <tr style=\"text-align: right;\">\n",
       "      <th></th>\n",
       "      <th>DATE</th>\n",
       "      <th>Home Price Index</th>\n",
       "      <th>Gross Domestic Product</th>\n",
       "      <th>Consumer Price Index</th>\n",
       "      <th>Construction Rate</th>\n",
       "      <th>Unemployment Rate</th>\n",
       "      <th>Interest Rate</th>\n",
       "      <th>Gross Domestic Income</th>\n",
       "    </tr>\n",
       "  </thead>\n",
       "  <tbody>\n",
       "    <tr>\n",
       "      <th>0</th>\n",
       "      <td>01-01-2004</td>\n",
       "      <td>3.21483</td>\n",
       "      <td>1.28449</td>\n",
       "      <td>0.84624</td>\n",
       "      <td>1.33165</td>\n",
       "      <td>-2.28571</td>\n",
       "      <td>6.19139</td>\n",
       "      <td>1.54799</td>\n",
       "    </tr>\n",
       "    <tr>\n",
       "      <th>1</th>\n",
       "      <td>01-04-2004</td>\n",
       "      <td>3.42687</td>\n",
       "      <td>1.58820</td>\n",
       "      <td>0.78557</td>\n",
       "      <td>3.08628</td>\n",
       "      <td>-1.75439</td>\n",
       "      <td>4.98468</td>\n",
       "      <td>1.95106</td>\n",
       "    </tr>\n",
       "    <tr>\n",
       "      <th>2</th>\n",
       "      <td>01-07-2004</td>\n",
       "      <td>3.04141</td>\n",
       "      <td>1.58916</td>\n",
       "      <td>0.63773</td>\n",
       "      <td>3.65154</td>\n",
       "      <td>-2.97619</td>\n",
       "      <td>6.47008</td>\n",
       "      <td>1.87335</td>\n",
       "    </tr>\n",
       "    <tr>\n",
       "      <th>3</th>\n",
       "      <td>01-10-2004</td>\n",
       "      <td>3.15594</td>\n",
       "      <td>1.80334</td>\n",
       "      <td>1.07375</td>\n",
       "      <td>1.46157</td>\n",
       "      <td>0.00000</td>\n",
       "      <td>-0.02674</td>\n",
       "      <td>1.32946</td>\n",
       "    </tr>\n",
       "    <tr>\n",
       "      <th>4</th>\n",
       "      <td>01-01-2005</td>\n",
       "      <td>3.77372</td>\n",
       "      <td>1.91640</td>\n",
       "      <td>0.50505</td>\n",
       "      <td>3.52650</td>\n",
       "      <td>-2.45399</td>\n",
       "      <td>3.55895</td>\n",
       "      <td>1.67014</td>\n",
       "    </tr>\n",
       "  </tbody>\n",
       "</table>\n",
       "</div>"
      ],
      "text/plain": [
       "         DATE  Home Price Index  Gross Domestic Product  Consumer Price Index  \\\n",
       "0  01-01-2004           3.21483                 1.28449               0.84624   \n",
       "1  01-04-2004           3.42687                 1.58820               0.78557   \n",
       "2  01-07-2004           3.04141                 1.58916               0.63773   \n",
       "3  01-10-2004           3.15594                 1.80334               1.07375   \n",
       "4  01-01-2005           3.77372                 1.91640               0.50505   \n",
       "\n",
       "   Construction Rate  Unemployment Rate  Interest Rate  Gross Domestic Income  \n",
       "0            1.33165           -2.28571        6.19139                1.54799  \n",
       "1            3.08628           -1.75439        4.98468                1.95106  \n",
       "2            3.65154           -2.97619        6.47008                1.87335  \n",
       "3            1.46157            0.00000       -0.02674                1.32946  \n",
       "4            3.52650           -2.45399        3.55895                1.67014  "
      ]
     },
     "execution_count": 3,
     "metadata": {},
     "output_type": "execute_result"
    }
   ],
   "source": [
    "data.head()"
   ]
  },
  {
   "cell_type": "code",
   "execution_count": 6,
   "id": "364f3eb8",
   "metadata": {},
   "outputs": [
    {
     "data": {
      "text/plain": [
       "DATE                      0\n",
       "Home Price Index          0\n",
       "Gross Domestic Product    0\n",
       "Consumer Price Index      0\n",
       "Construction Rate         0\n",
       "Unemployment Rate         0\n",
       "Interest Rate             0\n",
       "Gross Domestic Income     0\n",
       "dtype: int64"
      ]
     },
     "execution_count": 6,
     "metadata": {},
     "output_type": "execute_result"
    }
   ],
   "source": [
    "data.isnull().sum()"
   ]
  },
  {
   "cell_type": "code",
   "execution_count": 7,
   "id": "09717d97",
   "metadata": {},
   "outputs": [
    {
     "data": {
      "text/html": [
       "<div>\n",
       "<style scoped>\n",
       "    .dataframe tbody tr th:only-of-type {\n",
       "        vertical-align: middle;\n",
       "    }\n",
       "\n",
       "    .dataframe tbody tr th {\n",
       "        vertical-align: top;\n",
       "    }\n",
       "\n",
       "    .dataframe thead th {\n",
       "        text-align: right;\n",
       "    }\n",
       "</style>\n",
       "<table border=\"1\" class=\"dataframe\">\n",
       "  <thead>\n",
       "    <tr style=\"text-align: right;\">\n",
       "      <th></th>\n",
       "      <th>Home Price Index</th>\n",
       "      <th>Gross Domestic Product</th>\n",
       "      <th>Consumer Price Index</th>\n",
       "      <th>Construction Rate</th>\n",
       "      <th>Unemployment Rate</th>\n",
       "      <th>Interest Rate</th>\n",
       "      <th>Gross Domestic Income</th>\n",
       "    </tr>\n",
       "  </thead>\n",
       "  <tbody>\n",
       "    <tr>\n",
       "      <th>count</th>\n",
       "      <td>81.000000</td>\n",
       "      <td>81.000000</td>\n",
       "      <td>81.000000</td>\n",
       "      <td>81.000000</td>\n",
       "      <td>81.000000</td>\n",
       "      <td>81.000000</td>\n",
       "      <td>81.000000</td>\n",
       "    </tr>\n",
       "    <tr>\n",
       "      <th>mean</th>\n",
       "      <td>1.043688</td>\n",
       "      <td>1.099549</td>\n",
       "      <td>0.644596</td>\n",
       "      <td>1.058799</td>\n",
       "      <td>1.182645</td>\n",
       "      <td>0.988173</td>\n",
       "      <td>1.075801</td>\n",
       "    </tr>\n",
       "    <tr>\n",
       "      <th>std</th>\n",
       "      <td>1.965628</td>\n",
       "      <td>1.565149</td>\n",
       "      <td>0.667187</td>\n",
       "      <td>2.648397</td>\n",
       "      <td>27.613422</td>\n",
       "      <td>3.933953</td>\n",
       "      <td>1.623398</td>\n",
       "    </tr>\n",
       "    <tr>\n",
       "      <th>min</th>\n",
       "      <td>-3.825370</td>\n",
       "      <td>-8.261900</td>\n",
       "      <td>-2.290190</td>\n",
       "      <td>-5.809820</td>\n",
       "      <td>-32.307690</td>\n",
       "      <td>-17.878770</td>\n",
       "      <td>-9.050700</td>\n",
       "    </tr>\n",
       "    <tr>\n",
       "      <th>25%</th>\n",
       "      <td>-0.178250</td>\n",
       "      <td>0.822400</td>\n",
       "      <td>0.401840</td>\n",
       "      <td>-0.560000</td>\n",
       "      <td>-4.074070</td>\n",
       "      <td>-0.954620</td>\n",
       "      <td>0.616720</td>\n",
       "    </tr>\n",
       "    <tr>\n",
       "      <th>50%</th>\n",
       "      <td>1.142940</td>\n",
       "      <td>1.216940</td>\n",
       "      <td>0.674650</td>\n",
       "      <td>1.741140</td>\n",
       "      <td>-2.032520</td>\n",
       "      <td>1.491180</td>\n",
       "      <td>1.087470</td>\n",
       "    </tr>\n",
       "    <tr>\n",
       "      <th>75%</th>\n",
       "      <td>2.108180</td>\n",
       "      <td>1.519040</td>\n",
       "      <td>0.938230</td>\n",
       "      <td>2.839240</td>\n",
       "      <td>0.680270</td>\n",
       "      <td>3.499410</td>\n",
       "      <td>1.670140</td>\n",
       "    </tr>\n",
       "    <tr>\n",
       "      <th>max</th>\n",
       "      <td>5.070260</td>\n",
       "      <td>8.710310</td>\n",
       "      <td>2.415630</td>\n",
       "      <td>7.172860</td>\n",
       "      <td>239.130430</td>\n",
       "      <td>7.775900</td>\n",
       "      <td>7.489090</td>\n",
       "    </tr>\n",
       "  </tbody>\n",
       "</table>\n",
       "</div>"
      ],
      "text/plain": [
       "       Home Price Index  Gross Domestic Product  Consumer Price Index  \\\n",
       "count         81.000000               81.000000             81.000000   \n",
       "mean           1.043688                1.099549              0.644596   \n",
       "std            1.965628                1.565149              0.667187   \n",
       "min           -3.825370               -8.261900             -2.290190   \n",
       "25%           -0.178250                0.822400              0.401840   \n",
       "50%            1.142940                1.216940              0.674650   \n",
       "75%            2.108180                1.519040              0.938230   \n",
       "max            5.070260                8.710310              2.415630   \n",
       "\n",
       "       Construction Rate  Unemployment Rate  Interest Rate  \\\n",
       "count          81.000000          81.000000      81.000000   \n",
       "mean            1.058799           1.182645       0.988173   \n",
       "std             2.648397          27.613422       3.933953   \n",
       "min            -5.809820         -32.307690     -17.878770   \n",
       "25%            -0.560000          -4.074070      -0.954620   \n",
       "50%             1.741140          -2.032520       1.491180   \n",
       "75%             2.839240           0.680270       3.499410   \n",
       "max             7.172860         239.130430       7.775900   \n",
       "\n",
       "       Gross Domestic Income  \n",
       "count              81.000000  \n",
       "mean                1.075801  \n",
       "std                 1.623398  \n",
       "min                -9.050700  \n",
       "25%                 0.616720  \n",
       "50%                 1.087470  \n",
       "75%                 1.670140  \n",
       "max                 7.489090  "
      ]
     },
     "execution_count": 7,
     "metadata": {},
     "output_type": "execute_result"
    }
   ],
   "source": [
    "data.describe()"
   ]
  },
  {
   "cell_type": "code",
   "execution_count": 12,
   "id": "ba4e8186",
   "metadata": {},
   "outputs": [
    {
     "name": "stdout",
     "output_type": "stream",
     "text": [
      "DATE                       object\n",
      "Home Price Index          float64\n",
      "Gross Domestic Product    float64\n",
      "Consumer Price Index      float64\n",
      "Construction Rate         float64\n",
      "Unemployment Rate         float64\n",
      "Interest Rate             float64\n",
      "Gross Domestic Income     float64\n",
      "dtype: object\n"
     ]
    }
   ],
   "source": [
    "print(data.dtypes)"
   ]
  },
  {
   "cell_type": "code",
   "execution_count": 13,
   "id": "e0f442a4",
   "metadata": {},
   "outputs": [],
   "source": [
    "data['DATE'] = pd.to_datetime(data['DATE'])\n",
    "data.set_index('DATE', inplace=True)"
   ]
  },
  {
   "cell_type": "code",
   "execution_count": 16,
   "id": "38f2cd1b",
   "metadata": {},
   "outputs": [
    {
     "data": {
      "text/plain": [
       "<AxesSubplot: >"
      ]
     },
     "execution_count": 16,
     "metadata": {},
     "output_type": "execute_result"
    },
    {
     "data": {
      "image/png": "[encoded data removed]",
      "text/plain": [
       "<Figure size 640x480 with 2 Axes>"
      ]
     },
     "metadata": {},
     "output_type": "display_data"
    }
   ],
   "source": [
    "import seaborn as sns\n",
    "import matplotlib.pyplot as plt\n",
    "corr_matrix = data.corr()\n",
    "sns.heatmap(corr_matrix, annot=True, cmap='coolwarm')"
   ]
  },
  {
   "cell_type": "markdown",
   "id": "621d499e",
   "metadata": {},
   "source": [
    "> ### Key Insights:\n",
    ">\n",
    "> **Strong Positive Correlations:**\n",
    ">\n",
    "> * ***Home Price Index and Construction Rate:*** A strong positive correlation indicates that as construction rates increase, home prices tend to rise.\n",
    "> * ***Home Price Index and Gross Domestic Income:*** A moderate positive correlation suggests that increasing income levels tend to correlate with higher home prices.\n",
    ">\n",
    "> **Strong Negative Correlations:**\n",
    ">\n",
    "> * ***Unemployment Rate and Home Price Index:*** A moderate negative correlation indicates that higher unemployment rates generally lead to lower home prices."
   ]
  },
  {
   "cell_type": "markdown",
   "id": "a33f53a1",
   "metadata": {},
   "source": [
    "## Simple Linear Regression"
   ]
  },
  {
   "cell_type": "code",
   "execution_count": 17,
   "id": "ad22fbe3",
   "metadata": {},
   "outputs": [],
   "source": [
    "from scipy import stats\n",
    "data_clean = data[(np.abs(stats.zscore(data)) < 3).all(axis=1)]"
   ]
  },
  {
   "cell_type": "code",
   "execution_count": 21,
   "id": "4529e415",
   "metadata": {},
   "outputs": [
    {
     "name": "stdout",
     "output_type": "stream",
     "text": [
      "                            OLS Regression Results                            \n",
      "==============================================================================\n",
      "Dep. Variable:       Home Price Index   R-squared:                       0.569\n",
      "Model:                            OLS   Adj. R-squared:                  0.534\n",
      "Method:                 Least Squares   F-statistic:                     16.29\n",
      "Date:                Fri, 26 Jul 2024   Prob (F-statistic):           7.37e-12\n",
      "Time:                        20:23:08   Log-Likelihood:                -135.07\n",
      "No. Observations:                  81   AIC:                             284.1\n",
      "Df Residuals:                      74   BIC:                             300.9\n",
      "Df Model:                           6                                         \n",
      "Covariance Type:            nonrobust                                         \n",
      "==========================================================================================\n",
      "                             coef    std err          t      P>|t|      [0.025      0.975]\n",
      "------------------------------------------------------------------------------------------\n",
      "const                     -0.1515      0.255     -0.594      0.554      -0.659       0.356\n",
      "Gross Domestic Product    -0.2692      0.265     -1.016      0.313      -0.797       0.259\n",
      "Consumer Price Index       0.1425      0.277      0.514      0.609      -0.410       0.695\n",
      "Construction Rate          0.4266      0.067      6.381      0.000       0.293       0.560\n",
      "Unemployment Rate          0.0284      0.010      2.870      0.005       0.009       0.048\n",
      "Interest Rate              0.0417      0.043      0.972      0.334      -0.044       0.127\n",
      "Gross Domestic Income      0.8113      0.277      2.930      0.004       0.260       1.363\n",
      "==============================================================================\n",
      "Omnibus:                        0.625   Durbin-Watson:                   0.895\n",
      "Prob(Omnibus):                  0.732   Jarque-Bera (JB):                0.659\n",
      "Skew:                          -0.201   Prob(JB):                        0.719\n",
      "Kurtosis:                       2.816   Cond. No.                         66.0\n",
      "==============================================================================\n",
      "\n",
      "Notes:\n",
      "[1] Standard Errors assume that the covariance matrix of the errors is correctly specified.\n"
     ]
    }
   ],
   "source": [
    "import statsmodels.api as sm\n",
    "X = data.drop('Home Price Index', axis=1)\n",
    "y = data['Home Price Index']\n",
    "X = sm.add_constant(X)\n",
    "model = sm.OLS(y, X).fit()\n",
    "print(model.summary())"
   ]
  },
  {
   "cell_type": "markdown",
   "id": "e91a2e22",
   "metadata": {},
   "source": [
    " "
   ]
  },
  {
   "cell_type": "markdown",
   "id": "21a7ad3d",
   "metadata": {},
   "source": [
    ">**Based on the initial linear regression model, we find a moderate correlation between economic factors and home prices. The model explains approximately 56.9% of the variation in home prices.**\n",
    ">\n",
    ">***Key findings:***\n",
    ">\n",
    ">* **Construction Rate:** A significant positive correlation with home prices, indicating that increased construction activity tends to drive up housing costs.\n",
    ">* **Gross Domestic Income:** A significant positive impact on home prices, suggesting that higher income levels are associated with increased housing demand and prices.\n",
    ">* **Unemployment Rate:** A positive but less significant impact on home prices, which might be counterintuitive. Further analysis needed to understand this relationship better.\n",
    ">* **Gross Domestic Product (GDP):** No significant impact on home prices based on the current analysis.\n",
    ">* **Consumer Price Index (CPI):** No significant impact on home prices based on the current analysis.\n",
    ">* **Interest Rate:** No significant impact on home prices based on the current analysis. \n",
    ">\n",
    ">***Limitations:***\n",
    ">\n",
    ">The model explains only a portion of the variation in home prices, indicating that other factors might be influencing the market.\n",
    ">The model assumes a linear relationship between variables, which might not accurately capture the complex dynamics of the housing market."
   ]
  },
  {
   "cell_type": "markdown",
   "id": "0f699a79",
   "metadata": {},
   "source": [
    "## Multiple Regression with Interactions and Polynomial Terms"
   ]
  },
  {
   "cell_type": "code",
   "execution_count": 35,
   "id": "e95f902f",
   "metadata": {},
   "outputs": [
    {
     "name": "stdout",
     "output_type": "stream",
     "text": [
      "                            OLS Regression Results                            \n",
      "==============================================================================\n",
      "Dep. Variable:       Home Price Index   R-squared:                       0.780\n",
      "Model:                            OLS   Adj. R-squared:                  0.668\n",
      "Method:                 Least Squares   F-statistic:                     6.973\n",
      "Date:                Fri, 26 Jul 2024   Prob (F-statistic):           1.06e-09\n",
      "Time:                        22:13:27   Log-Likelihood:                -107.79\n",
      "No. Observations:                  81   AIC:                             271.6\n",
      "Df Residuals:                      53   BIC:                             338.6\n",
      "Df Model:                          27                                         \n",
      "Covariance Type:            nonrobust                                         \n",
      "============================================================================================================================\n",
      "                                                               coef    std err          t      P>|t|      [0.025      0.975]\n",
      "----------------------------------------------------------------------------------------------------------------------------\n",
      "const                                                        0.5685      0.499      1.139      0.260      -0.433       1.570\n",
      "Gross Domestic Product                                       0.1285      0.838      0.153      0.879      -1.553       1.810\n",
      "Consumer Price Index                                        -0.1936      0.505     -0.384      0.703      -1.206       0.819\n",
      "Construction Rate                                            0.0570      0.193      0.295      0.769      -0.331       0.445\n",
      "Unemployment Rate                                           -0.2907      0.100     -2.917      0.005      -0.491      -0.091\n",
      "Interest Rate                                                0.0575      0.131      0.440      0.662      -0.205       0.320\n",
      "Gross Domestic Income                                       -0.4972      0.990     -0.502      0.618      -2.483       1.488\n",
      "Gross Domestic Product_squared                               1.0668      0.572      1.867      0.068      -0.080       2.213\n",
      "Consumer Price Index_squared                                -1.1314      0.580     -1.950      0.056      -2.295       0.032\n",
      "Construction Rate_squared                                   -0.0226      0.028     -0.812      0.420      -0.079       0.033\n",
      "Unemployment Rate_squared                                    0.0043      0.003      1.387      0.171      -0.002       0.011\n",
      "Interest Rate_squared                                        0.0079      0.012      0.653      0.516      -0.016       0.032\n",
      "Gross Domestic Income_squared                               -0.5569      0.433     -1.285      0.204      -1.426       0.312\n",
      "Gross Domestic Product_Consumer Price Index_interaction     -0.8732      0.472     -1.848      0.070      -1.821       0.074\n",
      "Gross Domestic Product_Construction Rate_interaction        -0.0170      0.097     -0.176      0.861      -0.212       0.178\n",
      "Gross Domestic Product_Unemployment Rate_interaction         0.0534      0.047      1.145      0.257      -0.040       0.147\n",
      "Gross Domestic Product_Interest Rate_interaction            -0.1965      0.085     -2.314      0.025      -0.367      -0.026\n",
      "Gross Domestic Product_Gross Domestic Income_interaction    -0.3302      0.427     -0.773      0.443      -1.187       0.526\n",
      "Consumer Price Index_Gross Domestic Product_interaction     -0.8732      0.472     -1.848      0.070      -1.821       0.074\n",
      "Consumer Price Index_Construction Rate_interaction           0.0686      0.079      0.866      0.390      -0.090       0.228\n",
      "Consumer Price Index_Unemployment Rate_interaction           0.0317      0.048      0.663      0.510      -0.064       0.128\n",
      "Consumer Price Index_Interest Rate_interaction               0.0102      0.065      0.156      0.877      -0.121       0.141\n",
      "Consumer Price Index_Gross Domestic Income_interaction       1.7564      0.608      2.890      0.006       0.537       2.976\n",
      "Construction Rate_Gross Domestic Product_interaction        -0.0170      0.097     -0.176      0.861      -0.212       0.178\n",
      "Construction Rate_Consumer Price Index_interaction           0.0686      0.079      0.866      0.390      -0.090       0.228\n",
      "Construction Rate_Unemployment Rate_interaction              0.0051      0.011      0.468      0.641      -0.017       0.027\n",
      "Construction Rate_Interest Rate_interaction                  0.0368      0.013      2.816      0.007       0.011       0.063\n",
      "Construction Rate_Gross Domestic Income_interaction          0.0692      0.111      0.624      0.535      -0.153       0.292\n",
      "Unemployment Rate_Gross Domestic Product_interaction         0.0534      0.047      1.145      0.257      -0.040       0.147\n",
      "Unemployment Rate_Consumer Price Index_interaction           0.0317      0.048      0.663      0.510      -0.064       0.128\n",
      "Unemployment Rate_Construction Rate_interaction              0.0051      0.011      0.468      0.641      -0.017       0.027\n",
      "Unemployment Rate_Interest Rate_interaction                  0.0041      0.009      0.455      0.651      -0.014       0.022\n",
      "Unemployment Rate_Gross Domestic Income_interaction         -0.0143      0.041     -0.350      0.728      -0.096       0.068\n",
      "Interest Rate_Gross Domestic Product_interaction            -0.1965      0.085     -2.314      0.025      -0.367      -0.026\n",
      "Interest Rate_Consumer Price Index_interaction               0.0102      0.065      0.156      0.877      -0.121       0.141\n",
      "Interest Rate_Construction Rate_interaction                  0.0368      0.013      2.816      0.007       0.011       0.063\n",
      "Interest Rate_Unemployment Rate_interaction                  0.0041      0.009      0.455      0.651      -0.014       0.022\n",
      "Interest Rate_Gross Domestic Income_interaction              0.1350      0.092      1.471      0.147      -0.049       0.319\n",
      "Gross Domestic Income_Gross Domestic Product_interaction    -0.3302      0.427     -0.773      0.443      -1.187       0.526\n",
      "Gross Domestic Income_Consumer Price Index_interaction       1.7564      0.608      2.890      0.006       0.537       2.976\n",
      "Gross Domestic Income_Construction Rate_interaction          0.0692      0.111      0.624      0.535      -0.153       0.292\n",
      "Gross Domestic Income_Unemployment Rate_interaction         -0.0143      0.041     -0.350      0.728      -0.096       0.068\n",
      "Gross Domestic Income_Interest Rate_interaction              0.1350      0.092      1.471      0.147      -0.049       0.319\n",
      "==============================================================================\n",
      "Omnibus:                        6.226   Durbin-Watson:                   1.436\n",
      "Prob(Omnibus):                  0.044   Jarque-Bera (JB):                5.491\n",
      "Skew:                          -0.567   Prob(JB):                       0.0642\n",
      "Kurtosis:                       3.584   Cond. No.                     1.01e+16\n",
      "==============================================================================\n",
      "\n",
      "Notes:\n",
      "[1] Standard Errors assume that the covariance matrix of the errors is correctly specified.\n",
      "[2] The smallest eigenvalue is 3.23e-23. This might indicate that there are\n",
      "strong multicollinearity problems or that the design matrix is singular.\n"
     ]
    }
   ],
   "source": [
    "data['DATE'] = pd.to_datetime(data['DATE'])\n",
    "data.set_index('DATE', inplace=True)\n",
    "\n",
    "X = data.drop('Home Price Index', axis=1)\n",
    "y = data['Home Price Index']\n",
    "X = sm.add_constant(X)\n",
    "non_const_cols = [col for col in X.columns if col != 'const']\n",
    "squared_terms = {f\"{col}_squared\": X[col] ** 2 for col in non_const_cols}\n",
    "interaction_terms = {f\"{col1}_{col2}_interaction\": X[col1] * X[col2] for col1 in non_const_cols for col2 in non_const_cols if col1 != col2}\n",
    "X = X.assign(**squared_terms, **interaction_terms)\n",
    "model = sm.OLS(y, X).fit()\n",
    "print(model.summary())"
   ]
  },
  {
   "cell_type": "markdown",
   "id": "a45cc949",
   "metadata": {},
   "source": [
    ">Based on the initial linear regression model, we find a strong correlation between economic factors and home prices. The model explains approximately 78% of the variation in home prices.\n",
    ">\n",
    ">***Key findings:***\n",
    ">\n",
    ">- **Unemployment Rate**: A significant negative correlation with home prices. Higher unemployment rates tend to decrease home prices, indicating that increased joblessness has a notable impact on housing costs.\n",
    ">  \n",
    ">- **Gross Domestic Product (GDP) and Interest Rate**: These factors do not show a significant direct impact on home prices in this model.\n",
    ">  \n",
    ">- **Consumer Price Index (CPI) and Construction Rate**: Neither of these variables has a significant effect on home prices based on the current analysis.\n",
    ">\n",
    ">- **Interactions**: Significant interactions were found between GDP and the Interest Rate, as well as between the CPI and Gross Domestic Income. This suggests that the effect of GDP on home prices varies with changes in interest rates, and the relationship between CPI and home prices is influenced by Gross Domestic Income.\n",
    ">\n",
    ">***Limitations:***\n",
    ">\n",
    ">- **Complex Dynamics**: The model assumes a linear relationship between variables, which may not fully capture the complexities of the housing market. Further analysis and more sophisticated models might be needed for a more comprehensive understanding."
   ]
  },
  {
   "cell_type": "markdown",
   "id": "46176739",
   "metadata": {},
   "source": [
    "### Conclusion\n",
    "\n",
    "The objective of this project was to build a data science model to understand how economic factors impact home prices over the last 20 years. \n",
    "\n",
    "***Key Findings:***\n",
    "\n",
    "- **Initial Linear Regression Model:** This model explained approximately 56.9% of the variation in home prices. Significant positive impacts were observed from Construction Rate and Gross Domestic Income, while the effects of GDP, CPI, and Interest Rate were not significant.\n",
    "\n",
    "- **Advanced Regression Model:** By incorporating interaction and polynomial terms, the model's explanatory power increased to around 78%. Key findings included significant interactions between GDP and Interest Rate, and between CPI and Gross Domestic Income. Notably, Unemployment Rate was found to have a significant negative impact on home prices.\n",
    "\n",
    "***Summary:***\n",
    "\n",
    "Both models provided insights into the economic drivers of home prices. The advanced model offered a deeper understanding by capturing complex interactions and improving the fit. Despite these advancements, the analysis highlighted the need for addressing potential multicollinearity and considering additional variables for a more comprehensive view. "
   ]
  }
 ],
 "metadata": {
  "kernelspec": {
   "display_name": "Python 3 (ipykernel)",
   "language": "python",
   "name": "python3"
  },
  "language_info": {
   "codemirror_mode": {
    "name": "ipython",
    "version": 3
   },
   "file_extension": ".py",
   "mimetype": "text/x-python",
   "name": "python",
   "nbconvert_exporter": "python",
   "pygments_lexer": "ipython3",
   "version": "3.9.13"
  }
 },
 "nbformat": 4,
 "nbformat_minor": 5
}
